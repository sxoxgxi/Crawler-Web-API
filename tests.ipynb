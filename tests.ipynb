{
 "cells": [
  {
   "cell_type": "code",
   "execution_count": 6,
   "metadata": {},
   "outputs": [
    {
     "name": "stdout",
     "output_type": "stream",
     "text": [
      "github.com\n"
     ]
    }
   ],
   "source": [
    "from urllib.parse import urlparse\n",
    "\n",
    "\n",
    "def subdomain(url: str) -> str:\n",
    "    try:\n",
    "        return urlparse(url).netloc\n",
    "    except Exception as uwu:\n",
    "        print(uwu)\n",
    "        return \"\"\n",
    "\n",
    "\n",
    "def domain(url: str) -> str:\n",
    "    try:\n",
    "        res = subdomain(url)\n",
    "        output = res.split('.')\n",
    "        return f\"{output[-2]}.{output[-1]}\"\n",
    "    except Exception as uwu:\n",
    "        # print(uwu)\n",
    "        return \"\"\n",
    "\n",
    "\n",
    "print(domain(\"https://xD.api.github.com/sxoxgxi\"))\n"
   ]
  },
  {
   "cell_type": "code",
   "execution_count": 7,
   "metadata": {},
   "outputs": [
    {
     "data": {
      "text/plain": [
       "8"
      ]
     },
     "execution_count": 7,
     "metadata": {},
     "output_type": "execute_result"
    }
   ],
   "source": [
    "import os\n",
    "os.cpu_count()"
   ]
  }
 ],
 "metadata": {
  "kernelspec": {
   "display_name": "Python 3.10.4 ('env': venv)",
   "language": "python",
   "name": "python3"
  },
  "language_info": {
   "codemirror_mode": {
    "name": "ipython",
    "version": 3
   },
   "file_extension": ".py",
   "mimetype": "text/x-python",
   "name": "python",
   "nbconvert_exporter": "python",
   "pygments_lexer": "ipython3",
   "version": "3.10.4"
  },
  "orig_nbformat": 4,
  "vscode": {
   "interpreter": {
    "hash": "6c145f172759b33fbd002755a209ad52b55407eb36799feed10e759731b4c344"
   }
  }
 },
 "nbformat": 4,
 "nbformat_minor": 2
}
